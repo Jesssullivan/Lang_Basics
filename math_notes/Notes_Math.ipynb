{
 "cells": [
  {
   "cell_type": "markdown",
   "source": [
    "***Intro College Math with Numpy:***\n",
    "- - -"
   ],
   "metadata": {
    "collapsed": false,
    "pycharm": {
     "name": "#%% md\n"
    }
   }
  },
  {
   "cell_type": "markdown",
   "source": [
    "*technology matrices:*      \n",
    "\"You are given a technology matrix A and an external demand vector D. Find the corresponding production vector X.\""
   ],
   "metadata": {
    "collapsed": false
   }
  },
  {
   "cell_type": "code",
   "execution_count": null,
   "outputs": [],
   "source": [
    "import numpy as np\n",
    "\n",
    "def tMX(A,D):\n",
    "    # (I - A-1) * B = X:\n",
    "    return np.dot(np.linalg.inv(np.identity(len(A)) - A), D)\n",
    "\n",
    "# example:\n",
    "A = np.array([[.1, .5], [.1, .5]])\n",
    "D = np.array([[22000], [14000]])\n",
    "\n",
    "# run: #\n",
    "# prodX = tMX(A, D)\n",
    "# print(str('production vector X = : \\n' + str(prodX)))\n"
   ],
   "metadata": {
    "collapsed": false,
    "pycharm": {
     "name": "#%%\n"
    }
   }
  },
  {
   "cell_type": "markdown",
   "source": [
    "***matrix multiplication / operations with matrix inverse \"I\":***"
   ],
   "metadata": {
    "collapsed": false,
    "pycharm": {
     "name": "#%% md\n"
    }
   }
  },
  {
   "cell_type": "code",
   "execution_count": 11,
   "outputs": [
    {
     "name": "stdout",
     "text": [
      "A-1B =\n",
      "[[-30.5 176. ]\n",
      " [  4.5 -26. ]]\n",
      "B-1A =\n",
      "[[ -26.  -176. ]\n",
      " [  -4.5  -30.5]]\n",
      "(AB)-1 =\n",
      "[[188.   50.5]\n",
      " [ 33.5   9. ]]\n",
      "A-1*B-1 =\n",
      "[[190.75 -40.75]\n",
      " [-29.25   6.25]]\n",
      "\n",
      " Completed matrix operations for matrices A and B! \n",
      "\n",
      "\n"
     ],
     "output_type": "stream"
    }
   ],
   "source": [
    "import numpy as np\n",
    "\n",
    "ex_A = np.array([[1,7],[-4,-26]])\n",
    "ex_B = np.array([[1,-6],[5,-28]])\n",
    "\n",
    "def matrix_ops(A=ex_A, B=ex_B):\n",
    "    try:\n",
    "        AinvB = np.dot(np.linalg.inv(A), B)\n",
    "        print('A-1B =\\n' + str(AinvB))\n",
    "    except:\n",
    "        print('Could not calculate A-1B')       \n",
    "    try:\n",
    "        BinvA = np.dot(np.linalg.inv(B), A)\n",
    "        print('B-1A =\\n' + str(BinvA))\n",
    "    except:\n",
    "        print('Could not calculate B-1A, continuing...')\n",
    "    try:\n",
    "        ABinv = np.linalg.inv(np.matmul(A,B))\n",
    "        print('(AB)-1 =\\n' + str(ABinv))\n",
    "    except:\n",
    "        print('Could not calculate (AB)-1, continuing...')\n",
    "    try:\n",
    "        AinvBinv = np.dot(np.linalg.inv(A), np.linalg.inv(B))\n",
    "        print('A-1*B-1 =\\n' + str(AinvBinv))\n",
    "    except:\n",
    "        print('Could not calculate A-1*B-1, continuing...')\n",
    "    print('\\n Completed matrix operations for matrices A and B! \\n\\n')\n",
    "\n",
    "# run: #\n",
    "# matrix_ops()  # using example values"
   ],
   "metadata": {
    "collapsed": false,
    "pycharm": {
     "name": "#%%\n",
     "is_executing": false
    }
   }
  },
  {
   "cell_type": "markdown",
   "source": [
    "***more examples, testing w/ random matrices:***"
   ],
   "metadata": {
    "collapsed": false
   }
  },
  {
   "cell_type": "code",
   "execution_count": 12,
   "outputs": [],
   "source": [
    "def evalrandom():\n",
    "    def randmat() : return np.random.randint(1,3,(3,3))\n",
    "    for i in range(5):\n",
    "        print(str('\\nRunning random matrix example ' + str(i) + ' of 5..\\n'))\n",
    "        matrix_ops(randmat(), randmat()) \n",
    "\n",
    "# run with:\n",
    "#evalrandom()"
   ],
   "metadata": {
    "collapsed": false,
    "pycharm": {
     "name": "#%%\n",
     "is_executing": false
    }
   }
  },
  {
   "cell_type": "markdown",
   "source": [
    "Quickly parsing multiple choice solutions w/ copy & paste:\n",
    "``` text\n",
    "example pasted input \"io.txt:\"\n",
    "text(0,0)\n",
    "(1,-1)\n",
    "(3,-1)\n",
    "(-2,3)\n",
    "(-1,1)\n",
    "(-1,3)\n",
    "(-3,2)\n",
    "(2,-3)\n",
    "```"
   ],
   "metadata": {
    "collapsed": false
   }
  },
  {
   "cell_type": "code",
   "execution_count": 2,
   "outputs": [
    {
     "name": "stdout",
     "text": [
      "\n",
      " The following choices match condition(x):\n"
     ],
     "output_type": "stream"
    },
    {
     "traceback": [
      "\u001b[0;31m---------------------------------------------------------------------------\u001b[0m",
      "\u001b[0;31mTypeError\u001b[0m                                 Traceback (most recent call last)",
      "\u001b[0;32m<ipython-input-2-0ab9efa97c2b>\u001b[0m in \u001b[0;36m<module>\u001b[0;34m\u001b[0m\n\u001b[1;32m     20\u001b[0m \u001b[0;31m# evaluate:\u001b[0m\u001b[0;34m\u001b[0m\u001b[0;34m\u001b[0m\u001b[0;34m\u001b[0m\u001b[0m\n\u001b[1;32m     21\u001b[0m \u001b[0mprint\u001b[0m\u001b[0;34m(\u001b[0m\u001b[0;34m'\\n The following choices match condition(x):'\u001b[0m\u001b[0;34m)\u001b[0m\u001b[0;34m\u001b[0m\u001b[0;34m\u001b[0m\u001b[0m\n\u001b[0;32m---> 22\u001b[0;31m \u001b[0mparse\u001b[0m\u001b[0;34m(\u001b[0m\u001b[0mcondition\u001b[0m\u001b[0;34m)\u001b[0m\u001b[0;34m\u001b[0m\u001b[0;34m\u001b[0m\u001b[0m\n\u001b[0m",
      "\u001b[0;32m<ipython-input-2-0ab9efa97c2b>\u001b[0m in \u001b[0;36mparse\u001b[0;34m(fx)\u001b[0m\n\u001b[1;32m     16\u001b[0m     \u001b[0;32mwith\u001b[0m \u001b[0mopen\u001b[0m\u001b[0;34m(\u001b[0m\u001b[0;34m'io.txt'\u001b[0m\u001b[0;34m)\u001b[0m \u001b[0;32mas\u001b[0m \u001b[0mio\u001b[0m\u001b[0;34m:\u001b[0m\u001b[0;34m\u001b[0m\u001b[0;34m\u001b[0m\u001b[0m\n\u001b[1;32m     17\u001b[0m         \u001b[0;32mfor\u001b[0m \u001b[0mln\u001b[0m \u001b[0;32min\u001b[0m \u001b[0mio\u001b[0m\u001b[0;34m:\u001b[0m\u001b[0;34m\u001b[0m\u001b[0;34m\u001b[0m\u001b[0m\n\u001b[0;32m---> 18\u001b[0;31m             \u001b[0mfx\u001b[0m\u001b[0;34m(\u001b[0m\u001b[0msub\u001b[0m\u001b[0;34m(\u001b[0m\u001b[0;34m'[()\\n]'\u001b[0m\u001b[0;34m,\u001b[0m \u001b[0;34m''\u001b[0m\u001b[0;34m,\u001b[0m \u001b[0mln\u001b[0m\u001b[0;34m)\u001b[0m\u001b[0;34m.\u001b[0m\u001b[0msplit\u001b[0m\u001b[0;34m(\u001b[0m\u001b[0;34m','\u001b[0m\u001b[0;34m)\u001b[0m\u001b[0;34m)\u001b[0m\u001b[0;34m\u001b[0m\u001b[0;34m\u001b[0m\u001b[0m\n\u001b[0m\u001b[1;32m     19\u001b[0m \u001b[0;34m\u001b[0m\u001b[0m\n\u001b[1;32m     20\u001b[0m \u001b[0;31m# evaluate:\u001b[0m\u001b[0;34m\u001b[0m\u001b[0;34m\u001b[0m\u001b[0;34m\u001b[0m\u001b[0m\n",
      "\u001b[0;32m<ipython-input-2-0ab9efa97c2b>\u001b[0m in \u001b[0;36mcondition\u001b[0;34m(x)\u001b[0m\n\u001b[1;32m      9\u001b[0m \u001b[0;34m\u001b[0m\u001b[0m\n\u001b[1;32m     10\u001b[0m \u001b[0;32mdef\u001b[0m \u001b[0mcondition\u001b[0m\u001b[0;34m(\u001b[0m\u001b[0mx\u001b[0m\u001b[0;34m)\u001b[0m\u001b[0;34m:\u001b[0m\u001b[0;34m\u001b[0m\u001b[0;34m\u001b[0m\u001b[0m\n\u001b[0;32m---> 11\u001b[0;31m     \u001b[0mx\u001b[0m \u001b[0;34m=\u001b[0m \u001b[0mtInt\u001b[0m\u001b[0;34m(\u001b[0m\u001b[0mx\u001b[0m\u001b[0;34m)\u001b[0m\u001b[0;34m\u001b[0m\u001b[0;34m\u001b[0m\u001b[0m\n\u001b[0m\u001b[1;32m     12\u001b[0m     \u001b[0;32mif\u001b[0m \u001b[0mx\u001b[0m\u001b[0;34m[\u001b[0m\u001b[0;36m1\u001b[0m\u001b[0;34m]\u001b[0m \u001b[0;34m==\u001b[0m \u001b[0;36m1\u001b[0m\u001b[0;34m-\u001b[0m\u001b[0;34m(\u001b[0m\u001b[0;36m2\u001b[0m\u001b[0;34m*\u001b[0m \u001b[0mx\u001b[0m\u001b[0;34m[\u001b[0m\u001b[0;36m0\u001b[0m\u001b[0;34m]\u001b[0m\u001b[0;34m)\u001b[0m\u001b[0;34m:\u001b[0m  \u001b[0;31m# ensure inputs are numeric\u001b[0m\u001b[0;34m\u001b[0m\u001b[0;34m\u001b[0m\u001b[0m\n\u001b[1;32m     13\u001b[0m         \u001b[0mprint\u001b[0m\u001b[0;34m(\u001b[0m\u001b[0mx\u001b[0m\u001b[0;34m)\u001b[0m\u001b[0;34m\u001b[0m\u001b[0;34m\u001b[0m\u001b[0m\n",
      "\u001b[0;32m<ipython-input-2-0ab9efa97c2b>\u001b[0m in \u001b[0;36mtInt\u001b[0;34m(x)\u001b[0m\n\u001b[1;32m      5\u001b[0m     \u001b[0ml\u001b[0m \u001b[0;34m=\u001b[0m \u001b[0;34m[\u001b[0m\u001b[0;34m]\u001b[0m\u001b[0;34m\u001b[0m\u001b[0;34m\u001b[0m\u001b[0m\n\u001b[1;32m      6\u001b[0m     \u001b[0;32mfor\u001b[0m \u001b[0mi\u001b[0m \u001b[0;32min\u001b[0m \u001b[0mx\u001b[0m\u001b[0;34m:\u001b[0m\u001b[0;34m\u001b[0m\u001b[0;34m\u001b[0m\u001b[0m\n\u001b[0;32m----> 7\u001b[0;31m         \u001b[0ml\u001b[0m \u001b[0;34m+=\u001b[0m \u001b[0mint\u001b[0m\u001b[0;34m(\u001b[0m\u001b[0mx\u001b[0m\u001b[0;34m[\u001b[0m\u001b[0mi\u001b[0m\u001b[0;34m]\u001b[0m\u001b[0;34m)\u001b[0m\u001b[0;34m\u001b[0m\u001b[0;34m\u001b[0m\u001b[0m\n\u001b[0m\u001b[1;32m      8\u001b[0m     \u001b[0;32mreturn\u001b[0m \u001b[0ml\u001b[0m\u001b[0;34m\u001b[0m\u001b[0;34m\u001b[0m\u001b[0m\n\u001b[1;32m      9\u001b[0m \u001b[0;34m\u001b[0m\u001b[0m\n",
      "\u001b[0;31mTypeError\u001b[0m: list indices must be integers or slices, not str"
     ],
     "ename": "TypeError",
     "evalue": "list indices must be integers or slices, not str",
     "output_type": "error"
    }
   ],
   "source": [
    "# find matches to condition pasted in \"io.txt\"\n",
    "from re import sub\n",
    "\n",
    "def tInt(x):\n",
    "    l = []\n",
    "    for i in x:\n",
    "        l += int(x[i])\n",
    "    return l      \n",
    "        \n",
    "def condition(x):\n",
    "    x = tInt(x)\n",
    "    if x[1] == 1-(2* x[0]):  # ensure inputs are numeric\n",
    "        print(x)\n",
    "\n",
    "def parse(fx):\n",
    "    with open('io.txt') as io:\n",
    "        for ln in io:\n",
    "            fx(sub('[()\\n]', '', ln).split(','))\n",
    "\n",
    "# run: #\n",
    "# print('\\n The following choices match condition(x):')\n",
    "# parse(condition) "
   ],
   "metadata": {
    "collapsed": false,
    "pycharm": {
     "name": "#%%\n",
     "is_executing": false
    }
   }
  },
  {
   "cell_type": "code",
   "execution_count": null,
   "outputs": [],
   "source": [
    "# another example for checking io.txt:\n",
    "from re import sub\n",
    "def condition(x):\n",
    "    avg = []\n",
    "    if (.5* int(x[0])) + int(x[1]) <= 18:\n",
    "        if int(x[1]) <= 16:\n",
    "            if int(x[0]) <= 14:\n",
    "                if int(x[0]) >= 0:\n",
    "                    if int(x[1]) >= 0:\n",
    "                        return True\n",
    "                    else:\n",
    "                        return False\n",
    "\n",
    "\n",
    "def parse(fx, i=0):\n",
    "    feasible = dict()\n",
    "    def handler(ln):\n",
    "        return sub('[()\\n]', '', ln).split(',')\n",
    "    with open('io.txt') as io:\n",
    "        for ln in io:\n",
    "            if fx(handler(ln)):\n",
    "                result = [int(i) for i in handler(ln)]\n",
    "                feasible[i] = result\n",
    "                i += 1\n",
    "    return feasible\n",
    "\n",
    "# run: #\n",
    "# print(parse(condition).values())"
   ],
   "metadata": {
    "collapsed": false,
    "pycharm": {
     "name": "#%%\n"
    }
   }
  }
 ],
 "metadata": {
  "kernelspec": {
   "name": "pycharm-616c2a63",
   "language": "python",
   "display_name": "PyCharm (math_notes)"
  },
  "language_info": {
   "codemirror_mode": {
    "name": "ipython",
    "version": 2
   },
   "file_extension": ".py",
   "mimetype": "text/x-python",
   "name": "python",
   "nbconvert_exporter": "python",
   "pygments_lexer": "ipython2",
   "version": "2.7.6"
  },
  "pycharm": {
   "stem_cell": {
    "cell_type": "raw",
    "source": [],
    "metadata": {
     "collapsed": false
    }
   }
  }
 },
 "nbformat": 4,
 "nbformat_minor": 0
}