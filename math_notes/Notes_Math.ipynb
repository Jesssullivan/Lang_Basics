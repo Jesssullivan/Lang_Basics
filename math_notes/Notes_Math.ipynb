{
 "cells": [
  {
   "cell_type": "markdown",
   "source": [
    "***Jess's Intro College Math Notes-***    \n",
    "- - -   "
   ],
   "metadata": {
    "collapsed": false,
    "pycharm": {
     "name": "#%% md\n"
    }
   }
  },
  {
   "cell_type": "markdown",
   "source": [
    "HW 5.3.2-  \n",
    "**find tableau changing ratios:** "
   ],
   "metadata": {
    "collapsed": false,
    "pycharm": {
     "name": "#%% md\n"
    }
   }
  },
  {
   "cell_type": "code",
   "execution_count": null,
   "outputs": [],
   "source": [
    "import numpy as np\n",
    "\n",
    "B = np.array([[2, 1, 4], [7,1,7], [6,3,1]])  # values from #1\n",
    "\n",
    "for value in [1, 2]: # get ratio for second and third changing rows\n",
    "    p = (0,1)  # B[p] is the pivot value\n",
    "    c = value  # B[c,] is the changing row\n",
    "    mx = -B[c, p[1]] / B[p]\n",
    "    print('multiplier for changing row ' + str(c) + ' {row = ' + str(B[c,]) +\n",
    "          '}\\n...to create a zero = ' + str(mx))\n"
   ],
   "metadata": {
    "collapsed": false,
    "pycharm": {
     "name": "#%%\n"
    }
   }
  },
  {
   "cell_type": "markdown",
   "source": [
    "***maximize LP problem using the initial tableau thing approach***\n",
    "    \n",
    "*pivot value appears to be smallest cell > 1 in col with smallest value (-6) thus far*      "
   ],
   "metadata": {
    "collapsed": false,
    "pycharm": {
     "name": "#%% md\n"
    }
   }
  },
  {
   "cell_type": "code",
   "execution_count": null,
   "outputs": [],
   "source": [
    "import numpy as np\n",
    "\n",
    "s = np.array([2,8,3,1,0,0,12])\n",
    "t = np.array([3,2,0,0,1,0,20])\n",
    "p = np.array([-6,-1,-3,0,0,1,0])\n",
    "init = np.array([s,t,p])  #  using names s,t,p as labeled in HW\n",
    "\n",
    "pxy = (0,0)\n",
    "pval = 2\n",
    "prow = init[pxy[0]]\n",
    "\n",
    "for r in range(len(init)):\n",
    "    print(init[r] + (prow * -(init[r][pxy[1]] / pval)))\n",
    "\n",
    "# (row of zeros is the prow, it does not actually get changed)\n",
    "\n",
    "# another example :\n",
    "s = np.array([9,3,1,1,0,0,15])\n",
    "t = np.array([1,7,2,0,1,0,20])\n",
    "p = np.array([-1,-2,-5,0,0,1,0])\n",
    "init = np.array([s,t,p])\n",
    "\n",
    "pxy = (1,2)\n",
    "pval = 2\n",
    "prow = init[pxy[0]]\n",
    "\n",
    "for r in range(len(init)):\n",
    "    print(init[r] + (prow * -(init[r][pxy[1]] / pval)))"
   ],
   "metadata": {
    "collapsed": false,
    "pycharm": {
     "name": "#%% \n"
    }
   }
  },
  {
   "cell_type": "code",
   "execution_count": 2,
   "outputs": [
    {
     "traceback": [
      "\u001b[0;31m---------------------------------------------------------------------------\u001b[0m",
      "\u001b[0;31mModuleNotFoundError\u001b[0m                       Traceback (most recent call last)",
      "\u001b[0;32m<ipython-input-2-3b39887bd227>\u001b[0m in \u001b[0;36m<module>\u001b[0;34m\u001b[0m\n\u001b[1;32m      1\u001b[0m \u001b[0;31m# pydev_debug_cell\u001b[0m\u001b[0;34m\u001b[0m\u001b[0;34m\u001b[0m\u001b[0;34m\u001b[0m\u001b[0m\n\u001b[0;32m----> 2\u001b[0;31m \u001b[0;32mimport\u001b[0m \u001b[0mpulp\u001b[0m \u001b[0;32mas\u001b[0m \u001b[0mp\u001b[0m\u001b[0;34m\u001b[0m\u001b[0;34m\u001b[0m\u001b[0m\n\u001b[0m\u001b[1;32m      3\u001b[0m \u001b[0;34m\u001b[0m\u001b[0m\n\u001b[1;32m      4\u001b[0m \u001b[0;31m# initialize some PuLP variables:\u001b[0m\u001b[0;34m\u001b[0m\u001b[0;34m\u001b[0m\u001b[0;34m\u001b[0m\u001b[0m\n\u001b[1;32m      5\u001b[0m \u001b[0mprob\u001b[0m \u001b[0;34m=\u001b[0m \u001b[0mp\u001b[0m\u001b[0;34m.\u001b[0m\u001b[0mLpProblem\u001b[0m\u001b[0;34m(\u001b[0m\u001b[0;34m'prob'\u001b[0m\u001b[0;34m,\u001b[0m \u001b[0mp\u001b[0m\u001b[0;34m.\u001b[0m\u001b[0mLpMaximize\u001b[0m\u001b[0;34m)\u001b[0m\u001b[0;34m\u001b[0m\u001b[0;34m\u001b[0m\u001b[0m\n",
      "\u001b[0;31mModuleNotFoundError\u001b[0m: No module named 'pulp'"
     ],
     "ename": "ModuleNotFoundError",
     "evalue": "No module named 'pulp'",
     "output_type": "error"
    }
   ],
   "source": [
    "# Perhaps a pulp method too\n",
    "def void_pulp():\n",
    "    import pulp as p\n",
    "    # initialize some PuLP variables:\n",
    "    prob = p.LpProblem('prob', p.LpMaximize)\n",
    "    x = p.LpVariable(\"x\", lowBound=0)  # Create a variable x >=\n",
    "    y = p.LpVariable(\"y\", lowBound=0)\n",
    "    \n",
    "    \n",
    "    def lpMax(goal, inputs, prob):\n",
    "        prob += goal\n",
    "        for equ in inputs:\n",
    "            prob += equ\n",
    "        prob.solve()\n",
    "        results = {}\n",
    "        # results['prob'] = prob\n",
    "        for var in prob.variables():\n",
    "            results[var] = var.varValue\n",
    "        results['optimal'] = p.value(prob.objective)\n",
    "        return results\n",
    "    \n",
    "    # example values:\n",
    "    goal = x + (2 * y)\n",
    "    inputs = [y <= 4 * x, y >= .25 * x, y <= 5 - x]\n",
    "    \n",
    "    # run:\n",
    "    results = lpMax(goal, inputs, prob)\n",
    "    print(str('Results:\\n' + str(results)))"
   ],
   "metadata": {
    "collapsed": false,
    "pycharm": {
     "name": "#%%\n",
     "is_executing": false
    }
   }
  },
  {
   "cell_type": "markdown",
   "source": [
    "*technology matrices:*      \n",
    "\"You are given a technology matrix A and an external demand vector D. Find the corresponding production vector X.\""
   ],
   "metadata": {
    "collapsed": false
   }
  },
  {
   "cell_type": "code",
   "execution_count": null,
   "outputs": [],
   "source": [],
   "metadata": {
    "collapsed": false,
    "pycharm": {
     "name": "#%%\n"
    }
   }
  },
  {
   "cell_type": "markdown",
   "source": [
    "***matrix multiplication / operations with matrix inverse \"I\":***"
   ],
   "metadata": {
    "collapsed": false,
    "pycharm": {
     "name": "#%% md\n"
    }
   }
  },
  {
   "cell_type": "code",
   "execution_count": 11,
   "outputs": [
    {
     "name": "stdout",
     "text": [
      "A-1B =\n",
      "[[-30.5 176. ]\n",
      " [  4.5 -26. ]]\n",
      "B-1A =\n",
      "[[ -26.  -176. ]\n",
      " [  -4.5  -30.5]]\n",
      "(AB)-1 =\n",
      "[[188.   50.5]\n",
      " [ 33.5   9. ]]\n",
      "A-1*B-1 =\n",
      "[[190.75 -40.75]\n",
      " [-29.25   6.25]]\n",
      "\n",
      " Completed matrix operations for matrices A and B! \n",
      "\n",
      "\n"
     ],
     "output_type": "stream"
    }
   ],
   "source": [
    "import numpy as np\n",
    "\n",
    "ex_A = np.array([[1,7],[-4,-26]])\n",
    "ex_B = np.array([[1,-6],[5,-28]])\n",
    "\n",
    "def matrix_ops(A=ex_A, B=ex_B):\n",
    "    try:\n",
    "        AinvB = np.dot(np.linalg.inv(A), B)\n",
    "        print('A-1B =\\n' + str(AinvB))\n",
    "    except:\n",
    "        print('Could not calculate A-1B')       \n",
    "    try:\n",
    "        BinvA = np.dot(np.linalg.inv(B), A)\n",
    "        print('B-1A =\\n' + str(BinvA))\n",
    "    except:\n",
    "        print('Could not calculate B-1A, continuing...')\n",
    "    try:\n",
    "        ABinv = np.linalg.inv(np.matmul(A,B))\n",
    "        print('(AB)-1 =\\n' + str(ABinv))\n",
    "    except:\n",
    "        print('Could not calculate (AB)-1, continuing...')\n",
    "    try:\n",
    "        AinvBinv = np.dot(np.linalg.inv(A), np.linalg.inv(B))\n",
    "        print('A-1*B-1 =\\n' + str(AinvBinv))\n",
    "    except:\n",
    "        print('Could not calculate A-1*B-1, continuing...')\n",
    "    print('\\n Completed matrix operations for matrices A and B! \\n\\n')\n",
    "\n",
    "# run: #\n",
    "# matrix_ops()  # using example values\n",
    "\n",
    "# more examples, testing w/ random matrices:\n",
    "\n",
    "def evalrandom():\n",
    "    def randmat() : return np.random.randint(1,3,(3,3))\n",
    "    for i in range(5):\n",
    "        print(str('\\nRunning random matrix example ' + str(i) + ' of 5..\\n'))\n",
    "        matrix_ops(randmat(), randmat()) \n",
    "\n",
    "# run with:\n",
    "evalrandom()"
   ],
   "metadata": {
    "collapsed": false,
    "pycharm": {
     "name": "#%%\n",
     "is_executing": false
    }
   }
  },
  {
   "cell_type": "markdown",
   "source": [
    "Quickly parse multiple choice solutions w/ copy & paste:\n",
    "``` text\n",
    "example pasted input \"io.txt:\"\n",
    "text(0,0)\n",
    "(1,-1)\n",
    "(3,-1)\n",
    "(-2,3)\n",
    "(-1,1)\n",
    "(-1,3)\n",
    "(-3,2)\n",
    "(2,-3)\n",
    "```"
   ],
   "metadata": {
    "collapsed": false,
    "pycharm": {
     "name": "#%% md\n"
    }
   }
  },
  {
   "cell_type": "code",
   "execution_count": 4,
   "outputs": [
    {
     "name": "stdout",
     "text": [
      "dict_values([[0, 0], [14, 11], [14, 0], [4, 16], [0, 16]])\n"
     ],
     "output_type": "stream"
    }
   ],
   "source": [
    "# find matches to condition pasted in \"io.txt\"\n",
    "\n",
    "from re import sub\n",
    "def condition(x):\n",
    "    avg = []\n",
    "    if (.5* int(x[0])) + int(x[1]) <= 18:\n",
    "        if int(x[1]) <= 16:\n",
    "            if int(x[0]) <= 14:\n",
    "                if int(x[0]) >= 0:\n",
    "                    if int(x[1]) >= 0:\n",
    "                        return True\n",
    "                    else:\n",
    "                        return False\n",
    "\n",
    "\n",
    "def parse(fx, i=0):\n",
    "    feasible = dict()\n",
    "    def handler(ln):\n",
    "        return sub('[()\\n]', '', ln).split(',')\n",
    "    with open('io.txt') as io:\n",
    "        for ln in io:\n",
    "            if fx(handler(ln)):\n",
    "                result = [int(i) for i in handler(ln)]\n",
    "                feasible[i] = result\n",
    "                i += 1\n",
    "    return feasible\n",
    "\n",
    "# run: #\n",
    "# print(parse(condition).values())"
   ],
   "metadata": {
    "collapsed": false,
    "pycharm": {
     "name": "#%%\n",
     "is_executing": false
    }
   }
  }
 ],
 "metadata": {
  "kernelspec": {
   "name": "pycharm-51e2eafe",
   "language": "python",
   "display_name": "PyCharm (math)"
  },
  "language_info": {
   "codemirror_mode": {
    "name": "ipython",
    "version": 2
   },
   "file_extension": ".py",
   "mimetype": "text/x-python",
   "name": "python",
   "nbconvert_exporter": "python",
   "pygments_lexer": "ipython2",
   "version": "2.7.6"
  },
  "pycharm": {
   "stem_cell": {
    "cell_type": "raw",
    "source": [],
    "metadata": {
     "collapsed": false
    }
   }
  }
 },
 "nbformat": 4,
 "nbformat_minor": 0
}