{
 "cells": [
  {
   "cell_type": "markdown",
   "source": [
    "***Matrix operations with Numpy:***\n",
    "- - -"
   ],
   "metadata": {
    "collapsed": false,
    "pycharm": {
     "name": "#%% md\n"
    }
   }
  },
  {
   "cell_type": "markdown",
   "source": [
    "*technology matrices:*      \n",
    "\"You are given a technology matrix A and an external demand vector D. Find the corresponding production vector X.\""
   ],
   "metadata": {
    "collapsed": false,
    "pycharm": {
     "name": "#%% md\n"
    }
   }
  },
  {
   "cell_type": "code",
   "execution_count": 10,
   "outputs": [
    {
     "name": "stdout",
     "text": [
      "production vector X = : \n",
      "[[45000.]\n",
      " [37000.]]\n"
     ],
     "output_type": "stream"
    }
   ],
   "source": [
    "import numpy as np\n",
    "\n",
    "def tMX(A,D):\n",
    "    # (I - A-1) * B = X:\n",
    "    return np.dot(np.linalg.inv(np.identity(len(A)) - A), D)\n",
    "\n",
    "# example:\n",
    "A = np.array([[.1, .5], [.1, .5]])\n",
    "D = np.array([[22000], [14000]])\n",
    "prodX = tMX(A, D)\n",
    "#\n",
    "print(str('production vector X = : \\n' + str(prodX)))"
   ],
   "metadata": {
    "collapsed": false,
    "pycharm": {
     "name": "#%%\n",
     "is_executing": false
    }
   }
  },
  {
   "cell_type": "markdown",
   "source": [
    "*matrix multiplication / operations with matrix inverse \"I\": *"
   ],
   "metadata": {
    "collapsed": false,
    "pycharm": {
     "name": "#%% md\n"
    }
   }
  },
  {
   "cell_type": "code",
   "execution_count": 11,
   "outputs": [
    {
     "name": "stdout",
     "text": [
      "A-1B =\n",
      "[[-30.5 176. ]\n",
      " [  4.5 -26. ]]\n",
      "B-1A =\n",
      "[[ -26.  -176. ]\n",
      " [  -4.5  -30.5]]\n",
      "(AB)-1 =\n",
      "[[188.   50.5]\n",
      " [ 33.5   9. ]]\n",
      "A-1*B-1 =\n",
      "[[190.75 -40.75]\n",
      " [-29.25   6.25]]\n",
      "\n",
      " Completed matrix operations for matrices A and B! \n",
      "\n",
      "\n"
     ],
     "output_type": "stream"
    }
   ],
   "source": [
    "import numpy as np\n",
    "\n",
    "ex_A = np.array([[1,7],[-4,-26]])\n",
    "ex_B = np.array([[1,-6],[5,-28]])\n",
    "\n",
    "def matrix_ops(A=ex_A, B=ex_B):\n",
    "    try:\n",
    "        AinvB = np.dot(np.linalg.inv(A), B)\n",
    "        print('A-1B =\\n' + str(AinvB))\n",
    "    except:\n",
    "        print('Could not calculate A-1B')       \n",
    "    try:\n",
    "        BinvA = np.dot(np.linalg.inv(B), A)\n",
    "        print('B-1A =\\n' + str(BinvA))\n",
    "    except:\n",
    "        print('Could not calculate B-1A, continuing...')\n",
    "    try:\n",
    "        ABinv = np.linalg.inv(np.matmul(A,B))\n",
    "        print('(AB)-1 =\\n' + str(ABinv))\n",
    "    except:\n",
    "        print('Could not calculate (AB)-1, continuing...')\n",
    "    try:\n",
    "        AinvBinv = np.dot(np.linalg.inv(A), np.linalg.inv(B))\n",
    "        print('A-1*B-1 =\\n' + str(AinvBinv))\n",
    "    except:\n",
    "        print('Could not calculate A-1*B-1, continuing...')\n",
    "    print('\\n Completed matrix operations for matrices A and B! \\n\\n')\n",
    "\n",
    "matrix_ops()  # using example values"
   ],
   "metadata": {
    "collapsed": false,
    "pycharm": {
     "name": "#%%\n",
     "is_executing": false
    }
   }
  },
  {
   "cell_type": "markdown",
   "source": [
    "***more examples, testing w/ random matrices:***"
   ],
   "metadata": {
    "collapsed": false
   }
  },
  {
   "cell_type": "code",
   "execution_count": 12,
   "outputs": [],
   "source": [
    "def evalrandom():\n",
    "    def randmat() : return np.random.randint(1,3,(3,3))\n",
    "    for i in range(5):\n",
    "        print(str('\\nRunning random matrix example ' + str(i) + ' of 5..\\n'))\n",
    "        matrix_ops(randmat(), randmat()) \n",
    "\n",
    "# run with:\n",
    "#evalrandom()"
   ],
   "metadata": {
    "collapsed": false,
    "pycharm": {
     "name": "#%%\n",
     "is_executing": false
    }
   }
  },
  {
   "cell_type": "markdown",
   "source": [
    "Quickly parsing multiple choice solutions w/ copy & paste:\n",
    "``` text\n",
    "Pasted input \"io.txt:\"\n",
    "text(0,0)\n",
    "(1,-1)\n",
    "(3,-1)\n",
    "(-2,3)\n",
    "(-1,1)\n",
    "(-1,3)\n",
    "(-3,2)\n",
    "(2,-3)\n",
    "```"
   ],
   "metadata": {
    "collapsed": false
   }
  },
  {
   "cell_type": "code",
   "execution_count": 13,
   "outputs": [
    {
     "name": "stdout",
     "text": [
      "\n",
      " The following choices match condition(x):\n",
      "['1', '-1']\n",
      "['-1', '3']\n",
      "['2', '-3']\n"
     ],
     "output_type": "stream"
    }
   ],
   "source": [
    "# find matches to condition pasted in \"io.txt\"\n",
    "from re import sub\n",
    "def condition(x):\n",
    "    if int(x[1]) == 1-(2*int(x[0])):  # ensure inputs are numeric\n",
    "        print(x)\n",
    "\n",
    "def parse(fx):\n",
    "    with open('io.txt') as io:\n",
    "        for ln in io:\n",
    "            fx(sub('[()\\n]', '', ln).split(','))\n",
    "\n",
    "# evaluate:\n",
    "print('\\n The following choices match condition(x):')\n",
    "parse(condition) "
   ],
   "metadata": {
    "collapsed": false,
    "pycharm": {
     "name": "#%%\n",
     "is_executing": false
    }
   }
  }
 ],
 "metadata": {
  "kernelspec": {
   "name": "python3",
   "language": "python",
   "display_name": "Python 3"
  },
  "language_info": {
   "codemirror_mode": {
    "name": "ipython",
    "version": 2
   },
   "file_extension": ".py",
   "mimetype": "text/x-python",
   "name": "python",
   "nbconvert_exporter": "python",
   "pygments_lexer": "ipython2",
   "version": "2.7.6"
  },
  "pycharm": {
   "stem_cell": {
    "cell_type": "raw",
    "source": [],
    "metadata": {
     "collapsed": false
    }
   }
  }
 },
 "nbformat": 4,
 "nbformat_minor": 0
}