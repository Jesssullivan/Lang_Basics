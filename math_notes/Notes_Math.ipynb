{
 "cells": [
  {
   "cell_type": "markdown",
   "source": [
    "***Intro College Math with Numpy:***\n",
    "- - -"
   ],
   "metadata": {
    "collapsed": false,
    "pycharm": {
     "name": "#%% md\n"
    }
   }
  },
  {
   "cell_type": "markdown",
   "source": [
    "*linear programming:* \n",
    "\n",
    "***NOTE:***\n",
    "Thus far, it would appear entry level college math LP questions- usually starting along the lines of,\n",
    "\n",
    "*\"Suppose we want to maximize p=x+2y....\"* \n",
    "\n",
    "followed by example coordinates or constraints do seem to require linear programming at all.\n",
    "\n",
    "if we already have p=x+2y, the \"maximal\" value 'p' of each xy coordinate is just x+2y;  for example:\n",
    "- These LP inequalities- \n",
    "y ≤ 4x\n",
    "y ≥ .25x\n",
    "y ≤ 5-x\n",
    "- resulting in these xy coordinates:\n",
    "0,0\n",
    "1,4\n",
    "4,1\n",
    "- are irrelevant: \n",
    "coordinate (0,0) == 0+2*0 == 0 == p\n",
    "coordinate (1,4) == 1+2*4 == 9 == p\n",
    "coordinate (4,1) == 4+2*1 == 6 == p"
   ],
   "metadata": {
    "collapsed": false
   }
  },
  {
   "cell_type": "code",
   "execution_count": null,
   "outputs": [],
   "source": [
    "import pulp as p\n",
    "\n",
    "# initialize some PuLP variables:\n",
    "prob = p.LpProblem('prob', p.LpMaximize)\n",
    "x = p.LpVariable(\"x\", lowBound=0)  # Create a variable x >=\n",
    "y = p.LpVariable(\"y\", lowBound=0)\n",
    "\n",
    "\n",
    "def lpMax(goal, inputs, prob):\n",
    "    prob += goal\n",
    "    for equ in inputs:\n",
    "        prob += equ\n",
    "    prob.solve()\n",
    "    results = {}\n",
    "    # results['prob'] = prob\n",
    "    for var in prob.variables():\n",
    "        results[var] = var.varValue\n",
    "    results['optimal'] = p.value(prob.objective)\n",
    "    return results\n",
    "\n",
    "# example values:\n",
    "goal = x + (2 * y)\n",
    "inputs = [y <= 4 * x, y >= .25 * x, y <= 5 - x]\n",
    "\n",
    "# run:\n",
    "results = lpMax(goal, inputs, prob)\n",
    "print(str('Results:\\n' + str(results)))"
   ],
   "metadata": {
    "collapsed": false,
    "pycharm": {
     "name": "#%%\n"
    }
   }
  },
  {
   "cell_type": "markdown",
   "source": [
    "*technology matrices:*      \n",
    "\"You are given a technology matrix A and an external demand vector D. Find the corresponding production vector X.\""
   ],
   "metadata": {
    "collapsed": false
   }
  },
  {
   "cell_type": "code",
   "execution_count": null,
   "outputs": [],
   "source": [
    "import numpy as np\n",
    "\n",
    "def tMX(A,D):\n",
    "    # (I - A-1) * B = X:\n",
    "    return np.dot(np.linalg.inv(np.identity(len(A)) - A), D)\n",
    "\n",
    "# example:\n",
    "A = np.array([[.1, .5], [.1, .5]])\n",
    "D = np.array([[22000], [14000]])\n",
    "\n",
    "# run: #\n",
    "# prodX = tMX(A, D)\n",
    "# print(str('production vector X = : \\n' + str(prodX)))\n"
   ],
   "metadata": {
    "collapsed": false,
    "pycharm": {
     "name": "#%%\n"
    }
   }
  },
  {
   "cell_type": "markdown",
   "source": [
    "***matrix multiplication / operations with matrix inverse \"I\":***"
   ],
   "metadata": {
    "collapsed": false,
    "pycharm": {
     "name": "#%% md\n"
    }
   }
  },
  {
   "cell_type": "code",
   "execution_count": 11,
   "outputs": [
    {
     "name": "stdout",
     "text": [
      "A-1B =\n",
      "[[-30.5 176. ]\n",
      " [  4.5 -26. ]]\n",
      "B-1A =\n",
      "[[ -26.  -176. ]\n",
      " [  -4.5  -30.5]]\n",
      "(AB)-1 =\n",
      "[[188.   50.5]\n",
      " [ 33.5   9. ]]\n",
      "A-1*B-1 =\n",
      "[[190.75 -40.75]\n",
      " [-29.25   6.25]]\n",
      "\n",
      " Completed matrix operations for matrices A and B! \n",
      "\n",
      "\n"
     ],
     "output_type": "stream"
    }
   ],
   "source": [
    "import numpy as np\n",
    "\n",
    "ex_A = np.array([[1,7],[-4,-26]])\n",
    "ex_B = np.array([[1,-6],[5,-28]])\n",
    "\n",
    "def matrix_ops(A=ex_A, B=ex_B):\n",
    "    try:\n",
    "        AinvB = np.dot(np.linalg.inv(A), B)\n",
    "        print('A-1B =\\n' + str(AinvB))\n",
    "    except:\n",
    "        print('Could not calculate A-1B')       \n",
    "    try:\n",
    "        BinvA = np.dot(np.linalg.inv(B), A)\n",
    "        print('B-1A =\\n' + str(BinvA))\n",
    "    except:\n",
    "        print('Could not calculate B-1A, continuing...')\n",
    "    try:\n",
    "        ABinv = np.linalg.inv(np.matmul(A,B))\n",
    "        print('(AB)-1 =\\n' + str(ABinv))\n",
    "    except:\n",
    "        print('Could not calculate (AB)-1, continuing...')\n",
    "    try:\n",
    "        AinvBinv = np.dot(np.linalg.inv(A), np.linalg.inv(B))\n",
    "        print('A-1*B-1 =\\n' + str(AinvBinv))\n",
    "    except:\n",
    "        print('Could not calculate A-1*B-1, continuing...')\n",
    "    print('\\n Completed matrix operations for matrices A and B! \\n\\n')\n",
    "\n",
    "# run: #\n",
    "# matrix_ops()  # using example values"
   ],
   "metadata": {
    "collapsed": false,
    "pycharm": {
     "name": "#%%\n",
     "is_executing": false
    }
   }
  },
  {
   "cell_type": "markdown",
   "source": [
    "***more examples, testing w/ random matrices:***"
   ],
   "metadata": {
    "collapsed": false
   }
  },
  {
   "cell_type": "code",
   "execution_count": 12,
   "outputs": [],
   "source": [
    "def evalrandom():\n",
    "    def randmat() : return np.random.randint(1,3,(3,3))\n",
    "    for i in range(5):\n",
    "        print(str('\\nRunning random matrix example ' + str(i) + ' of 5..\\n'))\n",
    "        matrix_ops(randmat(), randmat()) \n",
    "\n",
    "# run with:\n",
    "#evalrandom()"
   ],
   "metadata": {
    "collapsed": false,
    "pycharm": {
     "name": "#%%\n",
     "is_executing": false
    }
   }
  },
  {
   "cell_type": "markdown",
   "source": [
    "Quickly parsing multiple choice solutions w/ copy & paste:\n",
    "``` text\n",
    "example pasted input \"io.txt:\"\n",
    "text(0,0)\n",
    "(1,-1)\n",
    "(3,-1)\n",
    "(-2,3)\n",
    "(-1,1)\n",
    "(-1,3)\n",
    "(-3,2)\n",
    "(2,-3)\n",
    "```"
   ],
   "metadata": {
    "collapsed": false,
    "pycharm": {
     "name": "#%% md\n"
    }
   }
  },
  {
   "cell_type": "code",
   "execution_count": null,
   "outputs": [],
   "source": [
    "# find matches to condition pasted in \"io.txt\"\n",
    "\n",
    "from re import sub\n",
    "def condition(x):\n",
    "    avg = []\n",
    "    if (.5* int(x[0])) + int(x[1]) <= 18:\n",
    "        if int(x[1]) <= 16:\n",
    "            if int(x[0]) <= 14:\n",
    "                if int(x[0]) >= 0:\n",
    "                    if int(x[1]) >= 0:\n",
    "                        return True\n",
    "                    else:\n",
    "                        return False\n",
    "\n",
    "\n",
    "def parse(fx, i=0):\n",
    "    feasible = dict()\n",
    "    def handler(ln):\n",
    "        return sub('[()\\n]', '', ln).split(',')\n",
    "    with open('io.txt') as io:\n",
    "        for ln in io:\n",
    "            if fx(handler(ln)):\n",
    "                result = [int(i) for i in handler(ln)]\n",
    "                feasible[i] = result\n",
    "                i += 1\n",
    "    return feasible\n",
    "\n",
    "# run: #\n",
    "# print(parse(condition).values())"
   ],
   "metadata": {
    "collapsed": false,
    "pycharm": {
     "name": "#%%\n"
    }
   }
  }
 ],
 "metadata": {
  "kernelspec": {
   "name": "pycharm-616c2a63",
   "language": "python",
   "display_name": "PyCharm (math_notes)"
  },
  "language_info": {
   "codemirror_mode": {
    "name": "ipython",
    "version": 2
   },
   "file_extension": ".py",
   "mimetype": "text/x-python",
   "name": "python",
   "nbconvert_exporter": "python",
   "pygments_lexer": "ipython2",
   "version": "2.7.6"
  },
  "pycharm": {
   "stem_cell": {
    "cell_type": "raw",
    "source": [],
    "metadata": {
     "collapsed": false
    }
   }
  }
 },
 "nbformat": 4,
 "nbformat_minor": 0
}