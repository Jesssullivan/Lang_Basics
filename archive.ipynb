{
 "cells": [
  {
   "cell_type": "code",
   "execution_count": null,
   "metadata": {
    "collapsed": true
   },
   "outputs": [],
   "source": []
  },
  {
   "cell_type": "markdown",
   "source": [
    "*linear programming:* \n",
    "\n",
    "***NOTE:***\n",
    "Thus far, it would appear entry level college math LP questions- usually starting along the lines of,\n",
    "\n",
    "*\"Suppose we want to maximize p=x+2y....\"* \n",
    "\n",
    "followed by example coordinates or constraints do seem to require linear programming at all.\n",
    "\n",
    "if we already have p=x+2y, the \"maximal\" value 'p' of each xy coordinate is just x+2y;  for example:\n",
    "- These LP inequalities:\n",
    "    - y ≤ 4x\n",
    "    - y ≥ .25x\n",
    "    - y ≤ 5-x\n",
    "- resulting in these xy coordinates:\n",
    "    - 0,0\n",
    "    - 1,4\n",
    "    - 4,1\n",
    "- are irrelevant to p:\n",
    "    - coordinate (0,0) == 0+2*0 == 0 == p\n",
    "    - coordinate (1,4) == 1+2*4 == 9 == p\n",
    "    - coordinate (4,1) == 4+2*1 == 6 == p\n",
    "\n",
    "\n",
    "\n",
    "import numpy as np\n",
    "\n",
    "def tMX(A,D):\n",
    "    # (I - A-1) * B = X:\n",
    "    return np.dot(np.linalg.inv(np.identity(len(A)) - A), D)\n",
    "\n",
    "# example:\n",
    "A = np.array([[.1, .5], [.1, .5]])\n",
    "D = np.array([[22000], [14000]])\n",
    "\n",
    "# run: #\n",
    "# prodX = tMX(A, D)\n",
    "# print(str('production vector X = : \\n' + str(prodX)))\n"
   ],
   "metadata": {
    "collapsed": false
   }
  }
 ],
 "metadata": {
  "kernelspec": {
   "display_name": "Python 3",
   "language": "python",
   "name": "python3"
  },
  "language_info": {
   "codemirror_mode": {
    "name": "ipython",
    "version": 2
   },
   "file_extension": ".py",
   "mimetype": "text/x-python",
   "name": "python",
   "nbconvert_exporter": "python",
   "pygments_lexer": "ipython2",
   "version": "2.7.6"
  },
  "pycharm": {
   "stem_cell": {
    "cell_type": "raw",
    "source": [],
    "metadata": {
     "collapsed": false
    }
   }
  }
 },
 "nbformat": 4,
 "nbformat_minor": 0
}